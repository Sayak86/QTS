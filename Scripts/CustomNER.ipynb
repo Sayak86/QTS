{
 "cells": [
  {
   "cell_type": "code",
   "execution_count": null,
   "metadata": {},
   "outputs": [],
   "source": [
    "#I will use NER of spacy to extract the entities from the text\n",
    "#I will use the spacy library to extract the entities from the text\n",
    "import spacy\n",
    "from pdf2image import convert_from_path\n",
    "import pytesseract\n",
    "from PIL import Image"
   ]
  },
  {
   "cell_type": "code",
   "execution_count": null,
   "metadata": {},
   "outputs": [],
   "source": [
    "def extract_text_from_pdf(file_path):\n",
    "    # Set the tesseract executable path\n",
    "    pytesseract.pytesseract.tesseract_cmd = r'C:\\Program Files\\Tesseract-OCR\\tesseract.exe'  # Update this path as per your installation\n",
    "    images = convert_from_path(file_path, dpi=300)\n",
    "    text = ''\n",
    "    for i, image in enumerate(images):\n",
    "        text += pytesseract.image_to_string(image)\n",
    "    return text    \n",
    "\n",
    "file_path = r'C:\\Users\\sakpa\\Projects\\Upgrad\\Gen AI\\QTS\\Data\\unsettled_trade_email_final.pdf'\n",
    "email_content = extract_text_from_pdf(file_path)"
   ]
  },
  {
   "cell_type": "code",
   "execution_count": null,
   "metadata": {},
   "outputs": [],
   "source": [
    "# Perform NER using spaCy\n",
    "nlp = spacy.load(\"en_core_web_sm\")\n",
    "doc = nlp(email_content)\n",
    "entities = [(ent.text, ent.label_) for ent in doc.ents]\n",
    "print('==================================',email_content,'==========================================\\n')\n",
    "# Print the extracted entities\n",
    "for entity in entities:\n",
    "    print(f\"Entity: {entity[0]}, Label: {entity[1]}\")"
   ]
  },
  {
   "cell_type": "code",
   "execution_count": null,
   "metadata": {},
   "outputs": [],
   "source": [
    "from presidio_analyzer import AnalyzerEngine"
   ]
  },
  {
   "cell_type": "code",
   "execution_count": null,
   "metadata": {},
   "outputs": [],
   "source": [
    "# Initialize Presidio Analyzer for sensitive data detection\n",
    "analyzer = AnalyzerEngine()"
   ]
  },
  {
   "cell_type": "code",
   "execution_count": null,
   "metadata": {},
   "outputs": [],
   "source": [
    "# Call analyzer to get results\n",
    "results = analyzer.analyze(text=email_content,\n",
    "                           language='en')\n",
    "for result in results:\n",
    "    print(f\"Type: {result.entity_type}, Text: {email_content[result.start:result.end]}, Score: {result.score}\")"
   ]
  },
  {
   "cell_type": "code",
   "execution_count": null,
   "metadata": {},
   "outputs": [],
   "source": []
  }
 ],
 "metadata": {
  "kernelspec": {
   "display_name": "base",
   "language": "python",
   "name": "python3"
  },
  "language_info": {
   "codemirror_mode": {
    "name": "ipython",
    "version": 3
   },
   "file_extension": ".py",
   "mimetype": "text/x-python",
   "name": "python",
   "nbconvert_exporter": "python",
   "pygments_lexer": "ipython3",
   "version": "3.11.5"
  }
 },
 "nbformat": 4,
 "nbformat_minor": 2
}
