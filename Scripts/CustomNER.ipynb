{
 "cells": [
  {
   "cell_type": "code",
   "execution_count": 1,
   "metadata": {},
   "outputs": [],
   "source": [
    "#I will use NER of spacy to extract the entities from the text\n",
    "#I will use the spacy library to extract the entities from the text\n",
    "import spacy\n",
    "from pdf2image import convert_from_path\n",
    "import pytesseract\n",
    "from PIL import Image"
   ]
  },
  {
   "cell_type": "code",
   "execution_count": 3,
   "metadata": {},
   "outputs": [],
   "source": [
    "def extract_text_from_pdf(file_path):\n",
    "    # Set the tesseract executable path\n",
    "    pytesseract.pytesseract.tesseract_cmd = r'C:\\Program Files\\Tesseract-OCR\\tesseract.exe'  # Update this path as per your installation\n",
    "    images = convert_from_path(file_path, dpi=300)\n",
    "    text = ''\n",
    "    for i, image in enumerate(images):\n",
    "        text += pytesseract.image_to_string(image)\n",
    "    return text    \n",
    "\n",
    "file_path = r'C:\\Users\\sakpa\\Projects\\Upgrad\\Gen AI\\QTS\\Data\\unsettled_trade_email_final.pdf'\n",
    "email_content = extract_text_from_pdf(file_path)"
   ]
  },
  {
   "cell_type": "code",
   "execution_count": 4,
   "metadata": {},
   "outputs": [
    {
     "name": "stdout",
     "output_type": "stream",
     "text": [
      "================================== Subject: Urgent: Trade Unsettlement Notification\n",
      "\n",
      "From: John Doe, Settlements Team, Bank 1\n",
      "To: Operations Team, Bank 2\n",
      "\n",
      "CC: Trade Support Team, Bank 1\n",
      "\n",
      "Dear Bank 2 Ops Team,\n",
      "\n",
      "We would like to bring to your attention that the following trade remains unsettled as of today. Kindly\n",
      "\n",
      "review the details and provide an update on the settlement status at the earliest.\n",
      "\n",
      "Trade Details:\n",
      "\n",
      "[See Screenshot Below]\n",
      "\n",
      "Issue: The trade was expected to settle on [Settlement Date], but it has not been processed\n",
      "successfully. We request you to investigate the reason for the delay and advise on the next steps\n",
      "\n",
      "required to complete the settlement.\n",
      "\n",
      "Requested Action:\n",
      "1. Please confirm the status of the trade.\n",
      "2. Provide any required actions from our end to facilitate the settlement.\n",
      "\n",
      "3. If there are any discrepancies, kindly highlight them for resolution.\n",
      "\n",
      "Your prompt attention to this matter would be highly appreciated. Kindly acknowledge receipt of this\n",
      "\n",
      "email and provide an update by [Response Deadline].\n",
      "\n",
      "Best regards,\n",
      "\n",
      "John Doe\n",
      "\n",
      "Settlements Team\n",
      "\n",
      "Bank 1\n",
      "\n",
      "123 Finance Street, Zurich, Switzerland\n",
      "\n",
      "Email: johndoe@bank1.com\n",
      "Phone: +41 22 123 4567\n",
      "\n",
      "Trade Settlement System - Unsettled Trades\n",
      "\n",
      "Trade Date Quantity ISIN Custodian Account\n",
      "2025-03-18 1000 US1234567890 023089313956.10\n",
      "2025-03-19 500 GB0987654321 023010874934.L3\n",
      "2025-03-20 750 FR5678901234 023081243784.S9\n",
      "2025-03-21 1200 DE4321098765 023091308470.C5\n",
      "\n",
      "2025-03-22 950 JP6789012345 023083536513.L1\n",
      " ==========================================\n",
      "\n",
      "Entity: John Doe, Label: PERSON\n",
      "Entity: Settlements Team, Label: ORG\n",
      "Entity: Operations Team, Label: ORG\n",
      "Entity: today, Label: DATE\n",
      "Entity: 1, Label: CARDINAL\n",
      "Entity: 2, Label: CARDINAL\n",
      "Entity: 3, Label: CARDINAL\n",
      "Entity: 123, Label: CARDINAL\n",
      "Entity: Finance Street, Label: FAC\n",
      "Entity: Zurich, Label: GPE\n",
      "Entity: Switzerland, Label: GPE\n",
      "Entity: 22 123 4567, Label: CARDINAL\n",
      "Entity: 2025-03-18 1000, Label: DATE\n",
      "Entity: 023089313956.10, Label: CARDINAL\n",
      "Entity: 2025-03-19, Label: DATE\n",
      "Entity: 2025-03-20, Label: DATE\n",
      "Entity: 2025-03-21 1200, Label: DATE\n",
      "Entity: DE4321098765 023091308470.C5, Label: LOC\n",
      "Entity: 2025-03-22, Label: DATE\n"
     ]
    }
   ],
   "source": [
    "# Perform NER using spaCy\n",
    "nlp = spacy.load(\"en_core_web_sm\")\n",
    "doc = nlp(email_content)\n",
    "entities = [(ent.text, ent.label_) for ent in doc.ents]\n",
    "print('==================================',email_content,'==========================================\\n')\n",
    "# Print the extracted entities\n",
    "for entity in entities:\n",
    "    print(f\"Entity: {entity[0]}, Label: {entity[1]}\")"
   ]
  },
  {
   "cell_type": "code",
   "execution_count": 6,
   "metadata": {},
   "outputs": [],
   "source": [
    "from presidio_analyzer import AnalyzerEngine, Pattern, PatternRecognizer\n"
   ]
  },
  {
   "cell_type": "code",
   "execution_count": 7,
   "metadata": {},
   "outputs": [],
   "source": [
    "# Initialize Presidio Analyzer for sensitive data detection\n",
    "analyzer = AnalyzerEngine()"
   ]
  },
  {
   "cell_type": "code",
   "execution_count": 8,
   "metadata": {},
   "outputs": [
    {
     "name": "stdout",
     "output_type": "stream",
     "text": [
      "Type: EMAIL_ADDRESS, Text: johndoe@bank1.com, Score: 1.0\n",
      "Type: PERSON, Text: John Doe, Score: 0.85\n",
      "Type: DATE_TIME, Text: today, Score: 0.85\n",
      "Type: PERSON, Text: John Doe\n",
      "\n",
      ", Score: 0.85\n",
      "Type: LOCATION, Text: Zurich, Score: 0.85\n",
      "Type: LOCATION, Text: Switzerland, Score: 0.85\n",
      "Type: DATE_TIME, Text: 2025-03-18, Score: 0.85\n",
      "Type: DATE_TIME, Text: 2025-03-19, Score: 0.85\n",
      "Type: NRP, Text: GB0987654321, Score: 0.85\n",
      "Type: DATE_TIME, Text: 2025-03-20 750 FR5678901234, Score: 0.85\n",
      "Type: DATE_TIME, Text: 2025-03-21, Score: 0.85\n",
      "Type: DATE_TIME, Text: 2025-03-22, Score: 0.85\n",
      "Type: PHONE_NUMBER, Text: +41 22 123 4567, Score: 0.75\n",
      "Type: URL, Text: bank1.com, Score: 0.5\n",
      "Type: IN_PAN, Text: resolution, Score: 0.4\n",
      "Type: PHONE_NUMBER, Text: 023089313956.10, Score: 0.4\n",
      "Type: PHONE_NUMBER, Text: 023010874934, Score: 0.4\n",
      "Type: PHONE_NUMBER, Text: 023081243784, Score: 0.4\n",
      "Type: PHONE_NUMBER, Text: 023091308470, Score: 0.4\n",
      "Type: PHONE_NUMBER, Text: 023083536513, Score: 0.4\n",
      "Type: US_DRIVER_LICENSE, Text: L3, Score: 0.3\n",
      "Type: US_DRIVER_LICENSE, Text: S9, Score: 0.3\n",
      "Type: US_DRIVER_LICENSE, Text: C5, Score: 0.3\n",
      "Type: US_DRIVER_LICENSE, Text: L1, Score: 0.3\n",
      "Type: IN_PAN, Text: Operations, Score: 0.05\n",
      "Type: IN_PAN, Text: settlement, Score: 0.05\n",
      "Type: IN_PAN, Text: Screenshot, Score: 0.05\n",
      "Type: IN_PAN, Text: Settlement, Score: 0.05\n",
      "Type: IN_PAN, Text: settlement, Score: 0.05\n",
      "Type: IN_PAN, Text: facilitate, Score: 0.05\n",
      "Type: IN_PAN, Text: settlement, Score: 0.05\n",
      "Type: IN_PAN, Text: Settlement, Score: 0.05\n",
      "Type: IN_PAN, Text: 2025-03-18, Score: 0.05\n",
      "Type: US_BANK_NUMBER, Text: 023089313956, Score: 0.05\n",
      "Type: IN_PAN, Text: 2025-03-19, Score: 0.05\n",
      "Type: US_BANK_NUMBER, Text: 023010874934, Score: 0.05\n",
      "Type: IN_PAN, Text: 2025-03-20, Score: 0.05\n",
      "Type: US_BANK_NUMBER, Text: 023081243784, Score: 0.05\n",
      "Type: IN_PAN, Text: 2025-03-21, Score: 0.05\n",
      "Type: US_BANK_NUMBER, Text: 023091308470, Score: 0.05\n",
      "Type: IN_PAN, Text: 2025-03-22, Score: 0.05\n",
      "Type: US_BANK_NUMBER, Text: 023083536513, Score: 0.05\n",
      "Type: US_DRIVER_LICENSE, Text: 023089313956, Score: 0.01\n",
      "Type: US_DRIVER_LICENSE, Text: 023010874934, Score: 0.01\n",
      "Type: US_DRIVER_LICENSE, Text: 023081243784, Score: 0.01\n",
      "Type: US_DRIVER_LICENSE, Text: 023091308470, Score: 0.01\n",
      "Type: US_DRIVER_LICENSE, Text: 023083536513, Score: 0.01\n"
     ]
    }
   ],
   "source": [
    "# Call analyzer to get results\n",
    "results = analyzer.analyze(text=email_content,\n",
    "                           language='en')\n",
    "for result in results:\n",
    "    print(f\"Type: {result.entity_type}, Text: {email_content[result.start:result.end]}, Score: {result.score}\")"
   ]
  },
  {
   "cell_type": "code",
   "execution_count": 9,
   "metadata": {},
   "outputs": [
    {
     "name": "stdout",
     "output_type": "stream",
     "text": [
      "\n",
      "Text: Please check Account 023012345-AZ for the transfer.\n",
      "Type: ACCOUNT_NUMBER, Text: Account 023012345-AZ, Score: 0.95\n",
      "\n",
      "Text: My Ac. 023056789.B1 needs approval.\n",
      "Type: ACCOUNT_NUMBER, Text: 023056789.B1, Score: 0.95\n",
      "\n",
      "Text: Act 56789-XY is pending verification.\n",
      "Type: ACCOUNT_NUMBER, Text: Act 56789-XY, Score: 0.95\n",
      "\n",
      "Text: Transfer 023078543-2X was successful.\n",
      "Type: ACCOUNT_NUMBER, Text: Transfer 023078543-2X, Score: 0.95\n",
      "\n",
      "Text: The account number 987654-AB is incorrect.\n",
      "Type: ACCOUNT_NUMBER, Text: 987654, Score: 0.95\n"
     ]
    }
   ],
   "source": [
    "\n",
    "# Initialize Presidio Analyzer\n",
    "analyzer = AnalyzerEngine()\n",
    "\n",
    "#define the regex pattern for account number\n",
    "acct_regex = r\"(?:\\b(?:Account|Ac|Act|transfer)\\b[\\s:,-]*)?(?:0230[.-]?)?\\d{5}[.-]?[A-Za-z\\d]{1,2}\"\n",
    "\n",
    "# Define updated regex pattern for Account Number\n",
    "account_number_pattern = Pattern(name=\"account_number_pattern\",\n",
    "                                 regex= acct_regex,\n",
    "                                 score=0.95)\n",
    "\n",
    "# Create a Pattern Recognizer\n",
    "account_recognizer = PatternRecognizer(supported_entity=\"ACCOUNT_NUMBER\", patterns=[account_number_pattern])\n",
    "\n",
    "# Add the custom recognizer to the analyzer\n",
    "analyzer.registry.add_recognizer(account_recognizer)\n",
    "\n",
    "# Sample Texts for Testing\n",
    "texts = [\n",
    "    \"Please check Account 023012345-AZ for the transfer.\",\n",
    "    \"My Ac. 023056789.B1 needs approval.\",\n",
    "    \"Act 56789-XY is pending verification.\",\n",
    "    \"Transfer 023078543-2X was successful.\",\n",
    "    \"The account number 987654-AB is incorrect.\",  # Should NOT match (missing 5 digits)\n",
    "]\n",
    "\n",
    "# Run the analyzer on each text\n",
    "for text in texts:\n",
    "    results = analyzer.analyze(text=text, entities=[\"ACCOUNT_NUMBER\"], language=\"en\")\n",
    "    print(f\"\\nText: {text}\")\n",
    "    for result in results:\n",
    "        print(f\"Type: {result.entity_type}, Text: {text[result.start:result.end]}, Score: {result.score}\")\n"
   ]
  },
  {
   "cell_type": "code",
   "execution_count": 10,
   "metadata": {},
   "outputs": [
    {
     "name": "stdout",
     "output_type": "stream",
     "text": [
      "Presidio detected: ['EMAIL_ADDRESS: johndoe@bank1.com', 'ACCOUNT_NUMBER: 1234567', 'ACCOUNT_NUMBER: 02308931395', 'ACCOUNT_NUMBER: 0987654', 'ACCOUNT_NUMBER: 02301087493', 'ACCOUNT_NUMBER: 5678901', 'ACCOUNT_NUMBER: 02308124378', 'ACCOUNT_NUMBER: 4321098', 'ACCOUNT_NUMBER: 02309130847', 'ACCOUNT_NUMBER: 6789012', 'ACCOUNT_NUMBER: 02308353651', 'PERSON: John Doe', 'PERSON: John Doe\\n\\n', 'PHONE_NUMBER: +41 22 123 4567', 'PHONE_NUMBER: 023089313956.10', 'PHONE_NUMBER: 023010874934', 'PHONE_NUMBER: 023081243784', 'PHONE_NUMBER: 023091308470', 'PHONE_NUMBER: 023083536513']\n"
     ]
    }
   ],
   "source": [
    "# Detect CID using Presidio\n",
    "results = analyzer.analyze(text=email_content, entities=[\"PERSON\", \"EMAIL_ADDRESS\", \"PHONE_NUMBER\", \"ACCOUNT_NUMBER\"], language=\"en\")\n",
    "\n",
    "# Extract detected entities\n",
    "cid_data = []\n",
    "for result in results:\n",
    "    entity_text = email_content[result.start:result.end]\n",
    "    cid_data.append(f\"{result.entity_type}: {entity_text}\")\n",
    "\n",
    "print(\"Presidio detected:\", cid_data)"
   ]
  },
  {
   "cell_type": "code",
   "execution_count": 11,
   "metadata": {},
   "outputs": [
    {
     "data": {
      "text/plain": [
       "'Subject: Urgent: Trade Unsettlement Notification\\n\\nFrom: John Doe, Settlements Team, Bank 1\\nTo: Operations Team, Bank 2\\n\\nCC: Trade Support Team, Bank 1\\n\\nDear Bank 2 Ops Team,\\n\\nWe would like to bring to your attention that the following trade remains unsettled as of today. Kindly\\n\\nreview the details and provide an update on the settlement status at the earliest.\\n\\nTrade Details:\\n\\n[See Screenshot Below]\\n\\nIssue: The trade was expected to settle on [Settlement Date], but it has not been processed\\nsuccessfully. We request you to investigate the reason for the delay and advise on the next steps\\n\\nrequired to complete the settlement.\\n\\nRequested Action:\\n1. Please confirm the status of the trade.\\n2. Provide any required actions from our end to facilitate the settlement.\\n\\n3. If there are any discrepancies, kindly highlight them for resolution.\\n\\nYour prompt attention to this matter would be highly appreciated. Kindly acknowledge receipt of this\\n\\nemail and provide an update by [Response Deadline].\\n\\nBest regards,\\n\\nJohn Doe\\n\\nSettlements Team\\n\\nBank 1\\n\\n123 Finance Street, Zurich, Switzerland\\n\\nEmail: johndoe@bank1.com\\nPhone: +41 22 123 4567\\n\\nTrade Settlement System - Unsettled Trades\\n\\nTrade Date Quantity ISIN Custodian Account\\n2025-03-18 1000 US1234567890 023089313956.10\\n2025-03-19 500 GB0987654321 023010874934.L3\\n2025-03-20 750 FR5678901234 023081243784.S9\\n2025-03-21 1200 DE4321098765 023091308470.C5\\n\\n2025-03-22 950 JP6789012345 023083536513.L1\\n'"
      ]
     },
     "execution_count": 11,
     "metadata": {},
     "output_type": "execute_result"
    }
   ],
   "source": [
    "email_content"
   ]
  },
  {
   "cell_type": "code",
   "execution_count": null,
   "metadata": {},
   "outputs": [],
   "source": [
    "# Define OpenAI prompt\n",
    "prompt = f\"\"\"\n",
    "Extract customer-identifying data (CID) from the following text:\n",
    "\"{email_content}\"\n",
    "\n",
    "Detect:\n",
    "- Names\n",
    "- Emails\n",
    "- Phone numbers\n",
    "- Account numbers\n",
    "- Addresses\n",
    "\n",
    "Ensure accuracy and correct any errors. Respond in JSON format.\n",
    "\"\"\"\n",
    "\n",
    "# Call OpenAI\n",
    "response = openai.ChatCompletion.create(\n",
    "    model=\"gpt-4-turbo\",\n",
    "    messages=[{\"role\": \"user\", \"content\": prompt}]\n",
    ")\n",
    "\n",
    "# Get extracted data\n",
    "cid_openai = response[\"choices\"][0][\"message\"][\"content\"]\n",
    "print(\"OpenAI detected:\", cid_openai)\n"
   ]
  },
  {
   "cell_type": "code",
   "execution_count": null,
   "metadata": {},
   "outputs": [],
   "source": [
    "import json\n",
    "\n",
    "# Convert OpenAI response to JSON\n",
    "cid_openai_dict = json.loads(cid_openai)\n",
    "\n",
    "# Merge with Presidio results\n",
    "merged_cid = {\n",
    "    \"Presidio\": cid_data,\n",
    "    \"OpenAI\": cid_openai_dict\n",
    "}\n",
    "\n",
    "print(\"Final CID Extraction:\", merged_cid)\n"
   ]
  },
  {
   "cell_type": "code",
   "execution_count": 12,
   "metadata": {},
   "outputs": [],
   "source": [
    "\n",
    "# Initialize Presidio Analyzer\n",
    "analyzer = AnalyzerEngine()\n",
    "\n",
    "def detect_cid_with_presidio(text):\n",
    "    \"\"\"Extracts customer-identifying data using Presidio.\"\"\"\n",
    "    \n",
    "    entities = [\"PERSON\", \"EMAIL_ADDRESS\", \"PHONE_NUMBER\", \"ACCOUNT_NUMBER\", \"ORGANIZATION\", \"LOCATION\", \"DATE_TIME\"]\n",
    "    \n",
    "    results = analyzer.analyze(text=text, entities=entities, language=\"en\")\n",
    "    \n",
    "    detected_cid = {}\n",
    "    for result in results:\n",
    "        entity_text = text[result.start:result.end]\n",
    "        detected_cid[result.entity_type] = entity_text\n",
    "    \n",
    "    return detected_cid\n"
   ]
  },
  {
   "cell_type": "code",
   "execution_count": 13,
   "metadata": {},
   "outputs": [],
   "source": [
    "import json\n",
    "\n",
    "def detect_cid_with_openai(text):\n",
    "    \"\"\"Extracts customer-identifying data using OpenAI GPT.\"\"\"\n",
    "    \n",
    "    prompt = f\"\"\"\n",
    "    Extract customer-identifying data (CID) from the following text:\n",
    "    \"{text}\"\n",
    "\n",
    "    Detect:\n",
    "    - Names\n",
    "    - Emails\n",
    "    - Phone numbers\n",
    "    - Account numbers\n",
    "    - Addresses\n",
    "    - Company names\n",
    "    - Dates of birth\n",
    "\n",
    "    Ensure accuracy and correct any errors. Respond in JSON format.\n",
    "    \"\"\"\n",
    "\n",
    "    response = openai.ChatCompletion.create(\n",
    "        model=\"gpt-4-turbo\",\n",
    "        messages=[{\"role\": \"user\", \"content\": prompt}]\n",
    "    )\n",
    "\n",
    "    return json.loads(response[\"choices\"][0][\"message\"][\"content\"])\n"
   ]
  },
  {
   "cell_type": "code",
   "execution_count": 14,
   "metadata": {},
   "outputs": [],
   "source": [
    "def merge_cid_results(presidio_cid, openai_cid):\n",
    "    \"\"\"Merges CID results from Presidio and OpenAI.\"\"\"\n",
    "    \n",
    "    merged_cid = {**presidio_cid}  # Start with Presidio results\n",
    "\n",
    "    for key, value in openai_cid.items():\n",
    "        if key not in merged_cid:\n",
    "            merged_cid[key] = value  # Add missing values\n",
    "        elif merged_cid[key] != value:\n",
    "            merged_cid[key] += f\", {value}\"  # Combine both\n",
    "    \n",
    "    return merged_cid\n"
   ]
  },
  {
   "cell_type": "code",
   "execution_count": 15,
   "metadata": {},
   "outputs": [],
   "source": [
    "from presidio_anonymizer import AnonymizerEngine\n",
    "\n",
    "# Initialize Anonymizer\n",
    "anonymizer = AnonymizerEngine()\n",
    "\n",
    "def anonymize_text(text, detected_cid):\n",
    "    \"\"\"Anonymizes detected CID in the text.\"\"\"\n",
    "    \n",
    "    anonymized_text = text\n",
    "    for entity, value in detected_cid.items():\n",
    "        anonymized_text = anonymized_text.replace(value, f\"[{entity}]\")\n",
    "    \n",
    "    return anonymized_text\n"
   ]
  },
  {
   "cell_type": "code",
   "execution_count": 16,
   "metadata": {},
   "outputs": [],
   "source": [
    "def process_email(email_text):\n",
    "    \"\"\"Processes an email, extracts CID, and anonymizes it.\"\"\"\n",
    "\n",
    "    # Step 1: Detect CID using Presidio\n",
    "    presidio_cid = detect_cid_with_presidio(email_text)\n",
    "    print(\"Presidio CID:\", presidio_cid)\n",
    "\n",
    "    # Step 2: Detect CID using OpenAI\n",
    "    openai_cid = detect_cid_with_openai(email_text)\n",
    "    print(\"OpenAI CID:\", openai_cid)\n",
    "\n",
    "    # Step 3: Merge results\n",
    "    merged_cid = merge_cid_results(presidio_cid, openai_cid)\n",
    "    print(\"Merged CID:\", merged_cid)\n",
    "\n",
    "    # Step 4: Anonymize text\n",
    "    anonymized_text = anonymize_text(email_text, merged_cid)\n",
    "    \n",
    "    return anonymized_text\n"
   ]
  },
  {
   "cell_type": "code",
   "execution_count": null,
   "metadata": {},
   "outputs": [],
   "source": []
  }
 ],
 "metadata": {
  "kernelspec": {
   "display_name": "base",
   "language": "python",
   "name": "python3"
  },
  "language_info": {
   "codemirror_mode": {
    "name": "ipython",
    "version": 3
   },
   "file_extension": ".py",
   "mimetype": "text/x-python",
   "name": "python",
   "nbconvert_exporter": "python",
   "pygments_lexer": "ipython3",
   "version": "3.11.5"
  }
 },
 "nbformat": 4,
 "nbformat_minor": 2
}
