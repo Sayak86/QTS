{
 "cells": [
  {
   "cell_type": "code",
   "execution_count": 1,
   "metadata": {},
   "outputs": [
    {
     "name": "stdout",
     "output_type": "stream",
     "text": [
      "Subject: Urgent: Trade Unsettlement Notification\n",
      "\n",
      "From: John Doe, Settlements Team, Bank 1\n",
      "To: Operations Team, Bank 2\n",
      "\n",
      "CC: Trade Support Team, Bank 1\n",
      "\n",
      "Dear Bank 2 Ops Team,\n",
      "\n",
      "We would like to bring to your attention that the following trade remains unsettled as of today. Kindly\n",
      "\n",
      "review the details and provide an update on the settlement status at the earliest.\n",
      "\n",
      "Trade Details:\n",
      "\n",
      "[See Screenshot Below]\n",
      "\n",
      "Issue: The trade was expected to settle on [Settlement Date], but it has not been processed\n",
      "successfully. We request you to investigate the reason for the delay and advise on the next steps\n",
      "\n",
      "required to complete the settlement.\n",
      "\n",
      "Requested Action:\n",
      "1. Please confirm the status of the trade.\n",
      "2. Provide any required actions from our end to facilitate the settlement.\n",
      "\n",
      "3. If there are any discrepancies, kindly highlight them for resolution.\n",
      "\n",
      "Your prompt attention to this matter would be highly appreciated. Kindly acknowledge receipt of this\n",
      "\n",
      "email and provide an update by [Response Deadline].\n",
      "\n",
      "Best regards,\n",
      "\n",
      "John Doe\n",
      "\n",
      "Settlements Team\n",
      "\n",
      "Bank 1\n",
      "\n",
      "123 Finance Street, Zurich, Switzerland\n",
      "\n",
      "Email: johndoe@bank1.com\n",
      "Phone: +41 22 123 4567\n",
      "\n",
      "Trade Settlement System - Unsettled Trades\n",
      "\n",
      "Trade Date Quantity ISIN Custodian Account\n",
      "2025-03-18 1000 US1234567890 023089313956.10\n",
      "2025-03-19 500 GB0987654321 023010874934.L3\n",
      "2025-03-20 750 FR5678901234 023081243784.S9\n",
      "2025-03-21 1200 DE4321098765 023091308470.C5\n",
      "\n",
      "2025-03-22 950 JP6789012345 023083536513.L1\n",
      "\n"
     ]
    }
   ],
   "source": [
    "from pdf2image import convert_from_path\n",
    "import pytesseract\n",
    "from PIL import Image\n",
    "\n",
    "def extract_text_from_pdf(file_path):\n",
    "    # Set the tesseract executable path\n",
    "    pytesseract.pytesseract.tesseract_cmd = r'C:\\Program Files\\Tesseract-OCR\\tesseract.exe'  # Update this path as per your installation\n",
    "    images = convert_from_path(file_path, dpi=300)\n",
    "    text = ''\n",
    "    for i, image in enumerate(images):\n",
    "        text += pytesseract.image_to_string(image)\n",
    "    return text    \n",
    "\n",
    "print(extract_text_from_pdf(r'C:\\Users\\sakpa\\Projects\\Upgrad\\Gen AI\\QTS\\Data\\unsettled_trade_email_final.pdf'))"
   ]
  },
  {
   "cell_type": "code",
   "execution_count": null,
   "metadata": {},
   "outputs": [],
   "source": []
  }
 ],
 "metadata": {
  "kernelspec": {
   "display_name": "base",
   "language": "python",
   "name": "python3"
  },
  "language_info": {
   "codemirror_mode": {
    "name": "ipython",
    "version": 3
   },
   "file_extension": ".py",
   "mimetype": "text/x-python",
   "name": "python",
   "nbconvert_exporter": "python",
   "pygments_lexer": "ipython3",
   "version": "3.11.5"
  }
 },
 "nbformat": 4,
 "nbformat_minor": 2
}
